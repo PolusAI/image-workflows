{
 "cells": [
  {
   "cell_type": "code",
   "execution_count": null,
   "metadata": {},
   "outputs": [],
   "source": []
  },
  {
   "cell_type": "code",
   "execution_count": null,
   "metadata": {},
   "outputs": [],
   "source": []
  },
  {
   "cell_type": "code",
   "execution_count": null,
   "metadata": {},
   "outputs": [],
   "source": [
    "from polus.pipelines.build import build_workflow, generate_compute_workflow\n",
    "from pathlib import Path\n",
    "import logging\n",
    "import sys\n",
    "\n",
    "\n",
    "logging.basicConfig(stream=sys.stdout, level=logging.DEBUG, format=\"%(asctime)s %(message)s\")\n",
    "logging.getLogger(\"polus.pipelines\")\n",
    "\n",
    "\n",
    "\n",
    "#workflow = build_workflow(Path(\"../config/download/BBBC/BBBC001_download.yaml\"))\n",
    "workflow = build_workflow(Path(\"../config/process/BBBC/BBBC001_process.yaml\"))\n",
    "\n",
    "shapes = solara.reactive(workflow)\n",
    "\n",
    "def updateStep(value):\n",
    "    text.set(f\"Step updated! {value}\")\n",
    "\n",
    "def do_generate_compute_workflow():\n",
    "\n",
    "    text.set(\"run workflow\")\n",
    "    compute_workflow = generate_compute_workflow(workflow)\n",
    "\n",
    "def create_ui_element(input):\n",
    "    title = input.name\n",
    "    input_type = input.inp_type.__name__\n",
    "    if  input_type == \"str\":\n",
    "        solara.InputText(title, value=input.value, continuous_update=False, on_value=updateStep)\n",
    "    elif input_type == \"Path\":\n",
    "        if not input.linked:\n",
    "            solara.InputText(title, value=input.value.as_posix(), continuous_update=False, on_value=updateStep)\n",
    "    elif input_type == \"bool\":\n",
    "        solara.Checkbox(label=title, value=input.value)\n",
    "\n",
    "for step in workflow.steps:\n",
    "    print(step.cwl_name)\n",
    "    for input in step.inputs:\n",
    "        print(input)\n",
    "        create_ui_element(input)\n",
    "\n",
    "import solara\n",
    "\n",
    "text = solara.reactive(\"\")\n",
    "continuous_update = solara.reactive(True)\n",
    "\n",
    "@solara.component\n",
    "def Page():\n",
    "    for step in workflow.steps:\n",
    "        plugin_name = step.cwl_name\n",
    "        solara.Markdown(f\"##{plugin_name}\")\n",
    "        for input in step.inputs:\n",
    "            create_ui_element(input)\n",
    "    with solara.Row():\n",
    "        solara.Button(\"Run Workflow\", on_click=do_generate_compute_workflow)\n",
    "        solara.Button(\"Reset\", on_click=lambda: text.set(\"reset workflow config\"))\n",
    "    solara.Markdown(f\"**Status**: {text.value}\")\n",
    "\n",
    "display(Page())\n"
   ]
  },
  {
   "cell_type": "code",
   "execution_count": null,
   "metadata": {},
   "outputs": [],
   "source": []
  },
  {
   "cell_type": "code",
   "execution_count": null,
   "metadata": {},
   "outputs": [],
   "source": []
  }
 ],
 "metadata": {
  "kernelspec": {
   "display_name": "demo",
   "language": "python",
   "name": "python3"
  },
  "language_info": {
   "codemirror_mode": {
    "name": "ipython",
    "version": 3
   },
   "file_extension": ".py",
   "mimetype": "text/x-python",
   "name": "python",
   "nbconvert_exporter": "python",
   "pygments_lexer": "ipython3",
   "version": "3.10.13"
  }
 },
 "nbformat": 4,
 "nbformat_minor": 2
}
