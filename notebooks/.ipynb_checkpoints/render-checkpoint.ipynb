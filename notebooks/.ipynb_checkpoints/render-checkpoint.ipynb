{
 "cells": [
  {
   "cell_type": "code",
   "execution_count": null,
   "metadata": {},
   "outputs": [],
   "source": [
    "%pip install polus"
   ]
  },
  {
   "cell_type": "code",
   "execution_count": 1,
   "metadata": {
    "scrolled": true
   },
   "outputs": [
    {
     "ename": "ModuleNotFoundError",
     "evalue": "No module named 'polus'",
     "output_type": "error",
     "traceback": [
      "\u001b[0;31m---------------------------------------------------------------------------\u001b[0m",
      "\u001b[0;31mModuleNotFoundError\u001b[0m                       Traceback (most recent call last)",
      "\u001b[1;32m/Users/antoinegerardin/Documents/projects/image-workflows/render.ipynb Cell 1\u001b[0m line \u001b[0;36m1\n\u001b[0;32m----> <a href='vscode-notebook-cell:/Users/antoinegerardin/Documents/projects/image-workflows/render.ipynb#W1sZmlsZQ%3D%3D?line=0'>1</a>\u001b[0m \u001b[39mfrom\u001b[39;00m \u001b[39mpolus\u001b[39;00m \u001b[39mimport\u001b[39;00m render\n\u001b[1;32m      <a href='vscode-notebook-cell:/Users/antoinegerardin/Documents/projects/image-workflows/render.ipynb#W1sZmlsZQ%3D%3D?line=1'>2</a>\u001b[0m \u001b[39mfrom\u001b[39;00m \u001b[39murllib\u001b[39;00m\u001b[39m.\u001b[39;00m\u001b[39mparse\u001b[39;00m \u001b[39mimport\u001b[39;00m urlparse\n\u001b[1;32m      <a href='vscode-notebook-cell:/Users/antoinegerardin/Documents/projects/image-workflows/render.ipynb#W1sZmlsZQ%3D%3D?line=2'>3</a>\u001b[0m \u001b[39mfrom\u001b[39;00m \u001b[39mpathlib\u001b[39;00m \u001b[39mimport\u001b[39;00m Path\n",
      "\u001b[0;31mModuleNotFoundError\u001b[0m: No module named 'polus'"
     ]
    }
   ],
   "source": [
    "from polus import render\n",
    "from urllib.parse import urlparse\n",
    "from pathlib import Path\n",
    "\n",
    "# Embeds a render into Jupyter notebooks at https://render.ci.ncats.io/\n",
    "# render()\n",
    "\n",
    "# Renders a zarr file hosted locally at \"C:\\Users\\JeffChen\\OneDrive - Axle Informatics\\Documents\\zarr files\\pyramid.zarr\"\n",
    "render(Path(r\"/Users/antoinegerardin/Documents/data/argo/temp/jobs/precomputeslide/human_ht29_colon_cancer_1_images_x00_y03_p0(0-5)_c0\"))"
   ]
  }
 ],
 "metadata": {
  "kernelspec": {
   "display_name": "Python 3 (ipykernel)",
   "language": "python",
   "name": "python3"
  },
  "language_info": {
   "codemirror_mode": {
    "name": "ipython",
    "version": 3
   },
   "file_extension": ".py",
   "mimetype": "text/x-python",
   "name": "python",
   "nbconvert_exporter": "python",
   "pygments_lexer": "ipython3",
   "version": "3.9.18"
  }
 },
 "nbformat": 4,
 "nbformat_minor": 2
}
