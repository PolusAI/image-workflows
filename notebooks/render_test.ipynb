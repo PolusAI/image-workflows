{
 "cells": [
  {
   "cell_type": "code",
   "execution_count": 2,
   "metadata": {},
   "outputs": [
    {
     "name": "stdout",
     "output_type": "stream",
     "text": [
      "/opt/homebrew/Caskroom/miniconda/base/envs/jupyter/bin/python\n",
      "polus-render              0.0.4.0.1\n"
     ]
    }
   ],
   "source": [
    "!which python\n",
    "! pip list | grep render"
   ]
  },
  {
   "cell_type": "code",
   "execution_count": 9,
   "metadata": {},
   "outputs": [
    {
     "data": {
      "text/html": [
       "\n",
       "        <iframe\n",
       "            width=\"960\"\n",
       "            height=\"500\"\n",
       "            src=\"https://render.ci.ncats.io/?imageUrl=https://viv-demo.storage.googleapis.com/LuCa-7color_Scan1/\"\n",
       "            frameborder=\"0\"\n",
       "            allowfullscreen\n",
       "            \n",
       "        ></iframe>\n",
       "        "
      ],
      "text/plain": [
       "<IPython.lib.display.IFrame at 0x10c9c0df0>"
      ]
     },
     "metadata": {},
     "output_type": "display_data"
    },
    {
     "data": {
      "text/plain": [
       "'https://render.ci.ncats.io/?imageUrl=https://viv-demo.storage.googleapis.com/LuCa-7color_Scan1/'"
      ]
     },
     "execution_count": 9,
     "metadata": {},
     "output_type": "execute_result"
    }
   ],
   "source": [
    "from polus import render\n",
    "from urllib.parse import urlparse\n",
    "from pathlib import Path\n",
    "\n",
    "# Embeds a render into Jupyter notebooks at https://render.ci.ncats.io/\n",
    "# render()\n",
    "\n",
    "# Renders a zarr file hosted locally at \"C:\\Users\\JeffChen\\OneDrive - Axle Informatics\\Documents\\zarr files\\pyramid.zarr\"\n",
    "# render(Path(r\"/Users/antoinegerardin/Documents/data/argo/temp/jobs/precomputeslide/human_ht29_colon_cancer_1_images_x00_y03_p0(0-5)_c0\"),width=1100\n",
    "#       )\n",
    "\n",
    "# render(use_local_render=False, image_location=urlparse(\"http://127.0.0.1:9095\"), width=1100)\n",
    "render(use_local_render=False, image_location=urlparse(\"https://viv-demo.storage.googleapis.com/LuCa-7color_Scan1/\"))\n",
    "\n"
   ]
  }
 ],
 "metadata": {
  "kernelspec": {
   "display_name": "jupyter",
   "language": "python",
   "name": "python3"
  },
  "language_info": {
   "codemirror_mode": {
    "name": "ipython",
    "version": 3
   },
   "file_extension": ".py",
   "mimetype": "text/x-python",
   "name": "python",
   "nbconvert_exporter": "python",
   "pygments_lexer": "ipython3",
   "version": "3.10.13"
  }
 },
 "nbformat": 4,
 "nbformat_minor": 2
}
