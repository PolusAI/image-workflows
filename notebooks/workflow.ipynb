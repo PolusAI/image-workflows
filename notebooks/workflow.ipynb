{
 "cells": [
  {
   "cell_type": "code",
   "execution_count": null,
   "metadata": {},
   "outputs": [],
   "source": [
    "from polus.pipelines.build import build_workflow, generate_compute_workflow\n",
    "from pathlib import Path\n",
    "import logging\n",
    "import sys\n",
    "\n",
    "\n",
    "logging.basicConfig(stream=sys.stdout, level=logging.DEBUG, format=\"%(asctime)s %(message)s\")\n",
    "logging.getLogger(\"polus.pipelines\")\n",
    "\n",
    "#workflow = build_workflow(Path(\"../config/download/BBBC/BBBC001_download.yaml\"))\n",
    "workflow = build_workflow(Path(\"../config/process/BBBC/BBBC001_process.yaml\"))\n",
    "compute_workflow = generate_compute_workflow(workflow)"
   ]
  },
  {
   "cell_type": "code",
   "execution_count": null,
   "metadata": {},
   "outputs": [],
   "source": [
    "from dotenv import load_dotenv\n",
    "load_dotenv(\"../.env\")"
   ]
  },
  {
   "cell_type": "code",
   "execution_count": null,
   "metadata": {},
   "outputs": [],
   "source": [
    "import logging\n",
    "import sys\n",
    "from polus.pipelines.compute import submit_workflow\n",
    "\n",
    "logging.basicConfig(stream=sys.stdout, level=logging.DEBUG, format=\"%(asctime)s %(message)s\")\n",
    "logging.getLogger(\"polus.pipelines\")\n",
    "\n",
    "submit_workflow(compute_workflow)"
   ]
  },
  {
   "cell_type": "code",
   "execution_count": null,
   "metadata": {},
   "outputs": [],
   "source": [
    "from polus.polus_render import render\n",
    "from urllib.parse import urlparse\n",
    "\n",
    "# for now we need to look in the container's logs in argo to figure out which dataset to render\n",
    "# eventually we should be able to retrieve the dataset location from a compute endpoint.\n",
    "pyramid_url = \"https://files.ci.ncats.io/temp/jobs/655c6b7d15989cf663113939/viz_workflow_BBBC001__step__5__PrecomputeSlide/out/x00_y03_p0(0-5)_c0/\"\n",
    "pyramid_url = \"http://localhost:9090\"\n",
    "render(use_local_render=False, image_location=urlparse(pyramid_url), width=1100)"
   ]
  }
 ],
 "metadata": {
  "kernelspec": {
   "display_name": "jupyter",
   "language": "python",
   "name": "python3"
  },
  "language_info": {
   "codemirror_mode": {
    "name": "ipython",
    "version": 3
   },
   "file_extension": ".py",
   "mimetype": "text/x-python",
   "name": "python",
   "nbconvert_exporter": "python",
   "pygments_lexer": "ipython3",
   "version": "3.10.13"
  }
 },
 "nbformat": 4,
 "nbformat_minor": 4
}
