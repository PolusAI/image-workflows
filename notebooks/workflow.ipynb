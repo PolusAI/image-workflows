{
 "cells": [
  {
   "cell_type": "code",
   "execution_count": null,
   "metadata": {},
   "outputs": [],
   "source": [
    "from polus.plugins.workflows.workflow_generator import generate_workflow\n",
    "from pathlib import Path\n",
    "import logging\n",
    "import sys\n",
    "\n",
    "\n",
    "logging.basicConfig(stream=sys.stdout, level=logging.DEBUG, format=\"%(asctime)s %(message)s\")\n",
    "logging.getLogger(\"polus.plugins.workflows.workflow_generator\")\n",
    "\n",
    "workflow = generate_workflow(Path(\"/Users/antoinegerardin/Documents/projects/image-workflows/config/process/BBBC/BBBC001_process.yaml\"))"
   ]
  },
  {
   "cell_type": "code",
   "execution_count": null,
   "metadata": {},
   "outputs": [],
   "source": [
    "# %env COMPUTE_URL=https://compute.ci.ncats.io\n",
    "%env COMPUTE_URL=http://localhost:8000\n",
    "\n",
    "from dotenv import load_dotenv\n",
    "\n",
    "load_dotenv(\"../.env\")"
   ]
  },
  {
   "cell_type": "code",
   "execution_count": null,
   "metadata": {},
   "outputs": [],
   "source": [
    "import logging\n",
    "import sys\n",
    "from pathlib import Path\n",
    "\n",
    "logging.basicConfig(stream=sys.stdout, level=logging.DEBUG, format=\"%(asctime)s %(message)s\")\n",
    "logging.getLogger(\"polus.plugins.workflows.workflow_generator\")\n",
    "\n",
    "from polus.plugins.workflows.compute_client import submit_workflow\n",
    "workflow = Path(\"/Users/antoinegerardin/Documents/projects/image-workflows/compute/viz_workflow_BBBC001.json\")\n",
    "submit_workflow(workflow)"
   ]
  }
 ],
 "metadata": {
  "kernelspec": {
   "display_name": "jupyter",
   "language": "python",
   "name": "python3"
  },
  "language_info": {
   "codemirror_mode": {
    "name": "ipython",
    "version": 3
   },
   "file_extension": ".py",
   "mimetype": "text/x-python",
   "name": "python",
   "nbconvert_exporter": "python",
   "pygments_lexer": "ipython3",
   "version": "3.10.13"
  }
 },
 "nbformat": 4,
 "nbformat_minor": 4
}
