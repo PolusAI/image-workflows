{
 "cells": [
  {
   "cell_type": "code",
   "execution_count": 2,
   "metadata": {},
   "outputs": [
    {
     "name": "stdout",
     "output_type": "stream",
     "text": [
      "Collecting polus-render\n",
      "  Obtaining dependency information for polus-render from https://files.pythonhosted.org/packages/9b/d2/15b1b9c0bd8eb5a94e06af481d8a6be95992c6a6843bacc0989da5d56dfc/polus_render-0.0.3.3-py3-none-any.whl.metadata\n",
      "  Using cached polus_render-0.0.3.3-py3-none-any.whl.metadata (2.1 kB)\n",
      "Using cached polus_render-0.0.3.3-py3-none-any.whl (5.1 kB)\n",
      "Installing collected packages: polus-render\n",
      "Successfully installed polus-render-0.0.3.3\n"
     ]
    }
   ],
   "source": [
    "!pip install polus-render\n"
   ]
  },
  {
   "cell_type": "code",
   "execution_count": 3,
   "metadata": {},
   "outputs": [
    {
     "name": "stdout",
     "output_type": "stream",
     "text": [
      "Python 3.10.13\n"
     ]
    }
   ],
   "source": [
    "!python --version"
   ]
  },
  {
   "cell_type": "code",
   "execution_count": 9,
   "metadata": {},
   "outputs": [
    {
     "name": "stdout",
     "output_type": "stream",
     "text": [
      "rendering https://render.ci.ncats.io/?imageUrl=http://localhost:51249/\n"
     ]
    },
    {
     "data": {
      "text/html": [
       "\n",
       "        <iframe\n",
       "            width=\"1100\"\n",
       "            height=\"500\"\n",
       "            src=\"https://render.ci.ncats.io/?imageUrl=http://localhost:51249/\"\n",
       "            frameborder=\"0\"\n",
       "            allowfullscreen\n",
       "            \n",
       "        ></iframe>\n",
       "        "
      ],
      "text/plain": [
       "<IPython.lib.display.IFrame at 0x10a35abc0>"
      ]
     },
     "metadata": {},
     "output_type": "display_data"
    }
   ],
   "source": [
    "from polus import render\n",
    "from urllib.parse import urlparse\n",
    "from pathlib import Path\n",
    "\n",
    "# Embeds a render into Jupyter notebooks at https://render.ci.ncats.io/\n",
    "# render()\n",
    "\n",
    "# Renders a zarr file hosted locally at \"C:\\Users\\JeffChen\\OneDrive - Axle Informatics\\Documents\\zarr files\\pyramid.zarr\"\n",
    "render(Path(r\"/Users/antoinegerardin/Documents/data/argo/temp/jobs/precomputeslide/human_ht29_colon_cancer_1_images_x00_y03_p0(0-5)_c0\"),width=1100\n",
    "      )"
   ]
  },
  {
   "cell_type": "code",
   "execution_count": null,
   "metadata": {},
   "outputs": [],
   "source": []
  },
  {
   "cell_type": "code",
   "execution_count": null,
   "metadata": {},
   "outputs": [],
   "source": []
  },
  {
   "cell_type": "code",
   "execution_count": null,
   "metadata": {},
   "outputs": [],
   "source": []
  }
 ],
 "metadata": {
  "kernelspec": {
   "display_name": "Python 3 (ipykernel)",
   "language": "python",
   "name": "python3"
  },
  "language_info": {
   "codemirror_mode": {
    "name": "ipython",
    "version": 3
   },
   "file_extension": ".py",
   "mimetype": "text/x-python",
   "name": "python",
   "nbconvert_exporter": "python",
   "pygments_lexer": "ipython3",
   "version": "3.10.13"
  }
 },
 "nbformat": 4,
 "nbformat_minor": 4
}
