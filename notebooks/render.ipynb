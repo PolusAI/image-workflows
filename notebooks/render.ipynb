{
 "cells": [
  {
   "cell_type": "code",
   "execution_count": null,
   "metadata": {},
   "outputs": [
    {
     "name": "stdout",
     "output_type": "stream",
     "text": [
      "Collecting polus-render\n",
      "  Obtaining dependency information for polus-render from https://files.pythonhosted.org/packages/c5/70/523dd99dd2be0d491faeaf256462553c73bda771cf699237a5d141afd6eb/polus_render-0.0.4.0.1-py3-none-any.whl.metadata\n",
      "  Downloading polus_render-0.0.4.0.1-py3-none-any.whl.metadata (8.0 kB)\n",
      "Collecting colorama==0.4.6 (from polus-render)\n",
      "  Using cached colorama-0.4.6-py2.py3-none-any.whl (25 kB)\n",
      "Collecting flask==3.0.0 (from polus-render)\n",
      "  Obtaining dependency information for flask==3.0.0 from https://files.pythonhosted.org/packages/36/42/015c23096649b908c809c69388a805a571a3bea44362fe87e33fc3afa01f/flask-3.0.0-py3-none-any.whl.metadata\n",
      "  Using cached flask-3.0.0-py3-none-any.whl.metadata (3.6 kB)\n",
      "Collecting Flask-HTTPAuth==4.8.0 (from polus-render)\n",
      "  Using cached Flask_HTTPAuth-4.8.0-py3-none-any.whl (7.0 kB)\n",
      "Collecting werkzeug==3.0.0 (from polus-render)\n",
      "  Obtaining dependency information for werkzeug==3.0.0 from https://files.pythonhosted.org/packages/b6/a5/54b01f663d60d5334f6c9c87c26274e94617a4fd463d812463626423b10d/werkzeug-3.0.0-py3-none-any.whl.metadata\n",
      "  Downloading werkzeug-3.0.0-py3-none-any.whl.metadata (4.1 kB)\n",
      "Collecting pyopenssl==23.2.0 (from polus-render)\n",
      "  Obtaining dependency information for pyopenssl==23.2.0 from https://files.pythonhosted.org/packages/f0/e2/f8b4f1c67933a4907e52228241f4bd52169f3196b70af04403b29c63238a/pyOpenSSL-23.2.0-py3-none-any.whl.metadata\n",
      "  Downloading pyOpenSSL-23.2.0-py3-none-any.whl.metadata (10 kB)\n",
      "Collecting flask-cors==3.0.10 (from polus-render)\n",
      "  Using cached Flask_Cors-3.0.10-py2.py3-none-any.whl (14 kB)\n",
      "Requirement already satisfied: Jinja2>=3.1.2 in /opt/homebrew/Caskroom/miniconda/base/envs/jupyter/lib/python3.10/site-packages (from flask==3.0.0->polus-render) (3.1.2)\n",
      "Collecting itsdangerous>=2.1.2 (from flask==3.0.0->polus-render)\n",
      "  Using cached itsdangerous-2.1.2-py3-none-any.whl (15 kB)\n",
      "Requirement already satisfied: click>=8.1.3 in /opt/homebrew/Caskroom/miniconda/base/envs/jupyter/lib/python3.10/site-packages (from flask==3.0.0->polus-render) (8.1.7)\n",
      "Collecting blinker>=1.6.2 (from flask==3.0.0->polus-render)\n",
      "  Obtaining dependency information for blinker>=1.6.2 from https://files.pythonhosted.org/packages/fa/2a/7f3714cbc6356a0efec525ce7a0613d581072ed6eb53eb7b9754f33db807/blinker-1.7.0-py3-none-any.whl.metadata\n",
      "  Using cached blinker-1.7.0-py3-none-any.whl.metadata (1.9 kB)\n",
      "Requirement already satisfied: Six in /opt/homebrew/Caskroom/miniconda/base/envs/jupyter/lib/python3.10/site-packages (from flask-cors==3.0.10->polus-render) (1.16.0)\n",
      "Collecting cryptography!=40.0.0,!=40.0.1,<42,>=38.0.0 (from pyopenssl==23.2.0->polus-render)\n",
      "  Obtaining dependency information for cryptography!=40.0.0,!=40.0.1,<42,>=38.0.0 from https://files.pythonhosted.org/packages/0b/c1/2f1e8abb31ec0bf8b004052bbe0face0a8be386ed5ea30e5e300bfffd51a/cryptography-41.0.5-cp37-abi3-macosx_10_12_universal2.whl.metadata\n",
      "  Using cached cryptography-41.0.5-cp37-abi3-macosx_10_12_universal2.whl.metadata (5.2 kB)\n",
      "Requirement already satisfied: MarkupSafe>=2.1.1 in /opt/homebrew/Caskroom/miniconda/base/envs/jupyter/lib/python3.10/site-packages (from werkzeug==3.0.0->polus-render) (2.1.3)\n",
      "Requirement already satisfied: cffi>=1.12 in /opt/homebrew/Caskroom/miniconda/base/envs/jupyter/lib/python3.10/site-packages (from cryptography!=40.0.0,!=40.0.1,<42,>=38.0.0->pyopenssl==23.2.0->polus-render) (1.16.0)\n",
      "Requirement already satisfied: pycparser in /opt/homebrew/Caskroom/miniconda/base/envs/jupyter/lib/python3.10/site-packages (from cffi>=1.12->cryptography!=40.0.0,!=40.0.1,<42,>=38.0.0->pyopenssl==23.2.0->polus-render) (2.21)\n",
      "Using cached polus_render-0.0.4.0.1-py3-none-any.whl (2.5 MB)\n",
      "Using cached flask-3.0.0-py3-none-any.whl (99 kB)\n",
      "Using cached pyOpenSSL-23.2.0-py3-none-any.whl (59 kB)\n",
      "Using cached werkzeug-3.0.0-py3-none-any.whl (226 kB)\n",
      "Using cached blinker-1.7.0-py3-none-any.whl (13 kB)\n",
      "Using cached cryptography-41.0.5-cp37-abi3-macosx_10_12_universal2.whl (5.4 MB)\n",
      "Installing collected packages: werkzeug, itsdangerous, colorama, blinker, flask, cryptography, pyopenssl, Flask-HTTPAuth, flask-cors, polus-render\n",
      "Successfully installed Flask-HTTPAuth-4.8.0 blinker-1.7.0 colorama-0.4.6 cryptography-41.0.5 flask-3.0.0 flask-cors-3.0.10 itsdangerous-2.1.2 polus-render-0.0.4.0.1 pyopenssl-23.2.0 werkzeug-3.0.0\n"
     ]
    }
   ],
   "source": [
    "!pip install polus-render\n"
   ]
  },
  {
   "cell_type": "code",
   "execution_count": 2,
   "metadata": {},
   "outputs": [
    {
     "name": "stdout",
     "output_type": "stream",
     "text": [
      "Python 3.10.13\n"
     ]
    }
   ],
   "source": [
    "!python --version"
   ]
  },
  {
   "cell_type": "code",
   "execution_count": 3,
   "metadata": {},
   "outputs": [
    {
     "ename": "ImportError",
     "evalue": "cannot import name 'render' from 'polus' (unknown location)",
     "output_type": "error",
     "traceback": [
      "\u001b[0;31m---------------------------------------------------------------------------\u001b[0m",
      "\u001b[0;31mImportError\u001b[0m                               Traceback (most recent call last)",
      "\u001b[1;32m/Users/antoinegerardin/Documents/projects/image-workflows/notebooks/render.ipynb Cell 3\u001b[0m line \u001b[0;36m1\n\u001b[0;32m----> <a href='vscode-notebook-cell:/Users/antoinegerardin/Documents/projects/image-workflows/notebooks/render.ipynb#W2sZmlsZQ%3D%3D?line=0'>1</a>\u001b[0m \u001b[39mfrom\u001b[39;00m \u001b[39mpolus\u001b[39;00m \u001b[39mimport\u001b[39;00m render\n\u001b[1;32m      <a href='vscode-notebook-cell:/Users/antoinegerardin/Documents/projects/image-workflows/notebooks/render.ipynb#W2sZmlsZQ%3D%3D?line=1'>2</a>\u001b[0m \u001b[39mfrom\u001b[39;00m \u001b[39murllib\u001b[39;00m\u001b[39m.\u001b[39;00m\u001b[39mparse\u001b[39;00m \u001b[39mimport\u001b[39;00m urlparse\n\u001b[1;32m      <a href='vscode-notebook-cell:/Users/antoinegerardin/Documents/projects/image-workflows/notebooks/render.ipynb#W2sZmlsZQ%3D%3D?line=2'>3</a>\u001b[0m \u001b[39mfrom\u001b[39;00m \u001b[39mpathlib\u001b[39;00m \u001b[39mimport\u001b[39;00m Path\n",
      "\u001b[0;31mImportError\u001b[0m: cannot import name 'render' from 'polus' (unknown location)"
     ]
    }
   ],
   "source": [
    "from polus import render\n",
    "from urllib.parse import urlparse\n",
    "from pathlib import Path\n",
    "\n",
    "# Embeds a render into Jupyter notebooks at https://render.ci.ncats.io/\n",
    "# render()\n",
    "\n",
    "# Renders a zarr file hosted locally at \"C:\\Users\\JeffChen\\OneDrive - Axle Informatics\\Documents\\zarr files\\pyramid.zarr\"\n",
    "render(Path(r\"/Users/antoinegerardin/Documents/data/argo/temp/jobs/precomputeslide/human_ht29_colon_cancer_1_images_x00_y03_p0(0-5)_c0\"),width=1100\n",
    "      )"
   ]
  },
  {
   "cell_type": "code",
   "execution_count": null,
   "metadata": {},
   "outputs": [],
   "source": []
  },
  {
   "cell_type": "code",
   "execution_count": null,
   "metadata": {},
   "outputs": [],
   "source": []
  },
  {
   "cell_type": "code",
   "execution_count": null,
   "metadata": {},
   "outputs": [],
   "source": []
  }
 ],
 "metadata": {
  "kernelspec": {
   "display_name": "Python 3 (ipykernel)",
   "language": "python",
   "name": "python3"
  },
  "language_info": {
   "codemirror_mode": {
    "name": "ipython",
    "version": 3
   },
   "file_extension": ".py",
   "mimetype": "text/x-python",
   "name": "python",
   "nbconvert_exporter": "python",
   "pygments_lexer": "ipython3",
   "version": "3.10.13"
  }
 },
 "nbformat": 4,
 "nbformat_minor": 4
}
