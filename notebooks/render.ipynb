{
 "cells": [
  {
   "cell_type": "code",
   "execution_count": null,
   "metadata": {},
   "outputs": [],
   "source": [
    "!which python\n",
    "%pip install polus-render"
   ]
  },
  {
   "cell_type": "code",
   "execution_count": null,
   "metadata": {},
   "outputs": [],
   "source": [
    "from polus import render\n",
    "from urllib.parse import urlparse\n",
    "from pathlib import Path\n",
    "\n",
    "# Embeds a render into Jupyter notebooks at https://render.ci.ncats.io/\n",
    "# render()\n",
    "\n",
    "# Renders a zarr file hosted locally at \"C:\\Users\\JeffChen\\OneDrive - Axle Informatics\\Documents\\zarr files\\pyramid.zarr\"\n",
    "# render(Path(r\"/Users/antoinegerardin/Documents/data/argo/temp/jobs/precomputeslide/human_ht29_colon_cancer_1_images_x00_y03_p0(0-5)_c0\"),width=1100\n",
    "#       )\n",
    "\n",
    "#pyramid_url = \"https://files.ci.ncats.io/temp/jobs/viz_workflow_BBBC001_demo5__step__5__PolusPrecomputeSlidePlugin/BBBC/BBBC001_out/x00_y03_p0(0-5)_c0/\"\n",
    "pyramid_url = \"https://files.ci.ncats.io/temp/jobs/viz_workflow_BBBC001__step__5__PrecomputeSlide/BBBC/BBBC001_out/x00_y03_p0(0-5)_c0/\"\n",
    "\n",
    "render(use_local_render=False, image_location=urlparse(pyramid_url), width=1100)\n",
    "\n",
    "# render(use_local_render=False, image_location=urlparse(\"http://127.0.0.1:9104\"), width=1100)\n",
    "# render(use_local_render=False, image_location=urlparse(\"https://viv-demo.storage.googleapis.com/LuCa-7color_Scan1/\"))\n",
    "\n"
   ]
  }
 ],
 "metadata": {
  "kernelspec": {
   "display_name": "jupyter",
   "language": "python",
   "name": "python3"
  },
  "language_info": {
   "codemirror_mode": {
    "name": "ipython",
    "version": 3
   },
   "file_extension": ".py",
   "mimetype": "text/x-python",
   "name": "python",
   "nbconvert_exporter": "python",
   "pygments_lexer": "ipython3",
   "version": "3.10.12"
  }
 },
 "nbformat": 4,
 "nbformat_minor": 2
}
