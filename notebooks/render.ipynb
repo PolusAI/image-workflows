{
 "cells": [
  {
   "cell_type": "code",
   "execution_count": 9,
   "metadata": {},
   "outputs": [
    {
     "name": "stdout",
     "output_type": "stream",
     "text": [
      "/opt/homebrew/Caskroom/miniconda/base/bin/python\n",
      "Collecting polus-render\n",
      "  Using cached polus_render-0.0.4.0.1-py3-none-any.whl (2.5 MB)\n",
      "Requirement already satisfied: pyopenssl==23.2.0 in /opt/homebrew/Caskroom/miniconda/base/lib/python3.10/site-packages (from polus-render) (23.2.0)\n",
      "Requirement already satisfied: Flask-HTTPAuth==4.8.0 in /opt/homebrew/Caskroom/miniconda/base/lib/python3.10/site-packages (from polus-render) (4.8.0)\n",
      "Requirement already satisfied: flask-cors==3.0.10 in /opt/homebrew/Caskroom/miniconda/base/lib/python3.10/site-packages (from polus-render) (3.0.10)\n",
      "Requirement already satisfied: colorama==0.4.6 in /opt/homebrew/Caskroom/miniconda/base/lib/python3.10/site-packages (from polus-render) (0.4.6)\n",
      "Requirement already satisfied: werkzeug==3.0.0 in /opt/homebrew/Caskroom/miniconda/base/lib/python3.10/site-packages (from polus-render) (3.0.0)\n",
      "Requirement already satisfied: flask==3.0.0 in /opt/homebrew/Caskroom/miniconda/base/lib/python3.10/site-packages (from polus-render) (3.0.0)\n",
      "Requirement already satisfied: Jinja2>=3.1.2 in /opt/homebrew/Caskroom/miniconda/base/lib/python3.10/site-packages (from flask==3.0.0->polus-render) (3.1.2)\n",
      "Requirement already satisfied: click>=8.1.3 in /opt/homebrew/Caskroom/miniconda/base/lib/python3.10/site-packages (from flask==3.0.0->polus-render) (8.1.7)\n",
      "Requirement already satisfied: blinker>=1.6.2 in /opt/homebrew/Caskroom/miniconda/base/lib/python3.10/site-packages (from flask==3.0.0->polus-render) (1.7.0)\n",
      "Requirement already satisfied: itsdangerous>=2.1.2 in /opt/homebrew/Caskroom/miniconda/base/lib/python3.10/site-packages (from flask==3.0.0->polus-render) (2.1.2)\n",
      "Requirement already satisfied: Six in /opt/homebrew/Caskroom/miniconda/base/lib/python3.10/site-packages (from flask-cors==3.0.10->polus-render) (1.16.0)\n",
      "Requirement already satisfied: cryptography!=40.0.0,!=40.0.1,<42,>=38.0.0 in /opt/homebrew/Caskroom/miniconda/base/lib/python3.10/site-packages (from pyopenssl==23.2.0->polus-render) (41.0.5)\n",
      "Requirement already satisfied: MarkupSafe>=2.1.1 in /opt/homebrew/Caskroom/miniconda/base/lib/python3.10/site-packages (from werkzeug==3.0.0->polus-render) (2.1.3)\n",
      "Requirement already satisfied: cffi>=1.12 in /opt/homebrew/Caskroom/miniconda/base/lib/python3.10/site-packages (from cryptography!=40.0.0,!=40.0.1,<42,>=38.0.0->pyopenssl==23.2.0->polus-render) (1.16.0)\n",
      "Requirement already satisfied: pycparser in /opt/homebrew/Caskroom/miniconda/base/lib/python3.10/site-packages (from cffi>=1.12->cryptography!=40.0.0,!=40.0.1,<42,>=38.0.0->pyopenssl==23.2.0->polus-render) (2.21)\n",
      "Installing collected packages: polus-render\n",
      "Successfully installed polus-render-0.0.4.0.1\n",
      "Note: you may need to restart the kernel to use updated packages.\n"
     ]
    }
   ],
   "source": [
    "!which python\n",
    "%pip install polus-render"
   ]
  },
  {
   "cell_type": "code",
   "execution_count": 10,
   "metadata": {},
   "outputs": [
    {
     "data": {
      "text/html": [
       "\n",
       "        <iframe\n",
       "            width=\"960\"\n",
       "            height=\"500\"\n",
       "            src=\"https://render.ci.ncats.io/?imageUrl=https://viv-demo.storage.googleapis.com/LuCa-7color_Scan1/\"\n",
       "            frameborder=\"0\"\n",
       "            allowfullscreen\n",
       "            \n",
       "        ></iframe>\n",
       "        "
      ],
      "text/plain": [
       "<IPython.lib.display.IFrame at 0x107e3e230>"
      ]
     },
     "metadata": {},
     "output_type": "display_data"
    },
    {
     "data": {
      "text/plain": [
       "'https://render.ci.ncats.io/?imageUrl=https://viv-demo.storage.googleapis.com/LuCa-7color_Scan1/'"
      ]
     },
     "execution_count": 10,
     "metadata": {},
     "output_type": "execute_result"
    }
   ],
   "source": [
    "from polus import render\n",
    "from urllib.parse import urlparse\n",
    "from pathlib import Path\n",
    "\n",
    "# Embeds a render into Jupyter notebooks at https://render.ci.ncats.io/\n",
    "# render()\n",
    "\n",
    "# Renders a zarr file hosted locally at \"C:\\Users\\JeffChen\\OneDrive - Axle Informatics\\Documents\\zarr files\\pyramid.zarr\"\n",
    "# render(Path(r\"/Users/antoinegerardin/Documents/data/argo/temp/jobs/precomputeslide/human_ht29_colon_cancer_1_images_x00_y03_p0(0-5)_c0\"),width=1100\n",
    "#       )\n",
    "\n",
    "render(use_local_render=False, image_location=urlparse(\"http://127.0.0.1:9098\"), width=1100)\n",
    "# render(use_local_render=False, image_location=urlparse(\"https://viv-demo.storage.googleapis.com/LuCa-7color_Scan1/\"))\n",
    "\n"
   ]
  }
 ],
 "metadata": {
  "kernelspec": {
   "display_name": "jupyter",
   "language": "python",
   "name": "python3"
  },
  "language_info": {
   "codemirror_mode": {
    "name": "ipython",
    "version": 3
   },
   "file_extension": ".py",
   "mimetype": "text/x-python",
   "name": "python",
   "nbconvert_exporter": "python",
   "pygments_lexer": "ipython3",
   "version": "3.10.13"
  }
 },
 "nbformat": 4,
 "nbformat_minor": 2
}
